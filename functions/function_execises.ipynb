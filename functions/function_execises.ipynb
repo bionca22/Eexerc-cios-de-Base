{
 "cells": [
  {
   "cell_type": "markdown",
   "id": "eb593416",
   "metadata": {},
   "source": [
    "para um n informado pelo usuário. Use uma função que receba um valor n inteiro e imprima até a n-ésima linha."
   ]
  },
  {
   "cell_type": "code",
   "execution_count": null,
   "id": "90ebeda7",
   "metadata": {},
   "outputs": [],
   "source": [
    "def cascade(n):\n",
    "    o=0\n",
    "    for i in range(n):\n",
    "        i+=1\n",
    "        o +=1\n",
    "        print(str(i) *o)"
   ]
  },
  {
   "cell_type": "code",
   "execution_count": null,
   "id": "16c341a5",
   "metadata": {},
   "outputs": [],
   "source": [
    "cascade(8)"
   ]
  },
  {
   "cell_type": "markdown",
   "id": "c9dad032",
   "metadata": {},
   "source": [
    "para um n informado pelo usuário. Use uma função que receba um valor n inteiro imprima até a n-ésima linha."
   ]
  },
  {
   "cell_type": "code",
   "execution_count": null,
   "id": "8f90a4d3",
   "metadata": {},
   "outputs": [],
   "source": [
    "\n",
    "def full_cascade(n):\n",
    "    val=[]\n",
    "    for i in range(1, n):\n",
    "        val.append(i)\n",
    "        print(val)\n",
    "        while val[-1] == n-1:\n",
    "            val.append(i+1)\n",
    "            print(val)"
   ]
  },
  {
   "cell_type": "code",
   "execution_count": null,
   "id": "50b5125e",
   "metadata": {},
   "outputs": [],
   "source": [
    "full_cascade(8)"
   ]
  },
  {
   "attachments": {},
   "cell_type": "markdown",
   "id": "3cfe2b58",
   "metadata": {},
   "source": [
    "Faça um programa, com uma função que necessite de três argumentos, e que forneça a soma desses três argumentos."
   ]
  },
  {
   "cell_type": "code",
   "execution_count": null,
   "id": "d27640b0",
   "metadata": {},
   "outputs": [],
   "source": [
    "def sum_arguments(a, b, c):\n",
    "    return a + b + c"
   ]
  },
  {
   "cell_type": "code",
   "execution_count": null,
   "id": "9fae589c",
   "metadata": {},
   "outputs": [],
   "source": [
    "sum_arguments(5, 5, 5)"
   ]
  },
  {
   "attachments": {},
   "cell_type": "markdown",
   "id": "b777a958",
   "metadata": {},
   "source": [
    "Faça um programa, com uma função que necessite de um argumento. A função retorna o valor de caractere ‘P’, se seu argumento for positivo, e ‘N’, se seu argumento for zero ou negativo."
   ]
  },
  {
   "cell_type": "code",
   "execution_count": null,
   "id": "c7674f14",
   "metadata": {},
   "outputs": [],
   "source": [
    "def tell_value(num):\n",
    "    if num > 0:\n",
    "        print(\"p\")\n",
    "    else:\n",
    "        print(\"n\")"
   ]
  },
  {
   "cell_type": "code",
   "execution_count": null,
   "id": "52532764",
   "metadata": {},
   "outputs": [],
   "source": [
    "tell_value(5)"
   ]
  },
  {
   "attachments": {},
   "cell_type": "markdown",
   "id": "1ec303eb",
   "metadata": {},
   "source": [
    "Faça um programa que converta da notação de 24 horas para a notação de 12 horas. Por exemplo, o programa deve converter 14:25 em 2:25 P.M. A entrada é dada em dois inteiros. Deve haver pelo menos duas funções: uma para fazer a conversão e uma para a saída. Registre a informação A.M./P.M. como um valor ‘A’ para A.M. e ‘P’ para P.M. Assim, a função para efetuar as conversões terá um parâmetro formal para registrar se é A.M. ou P.M. Inclua um loop que permita que o usuário repita esse cálculo para novos valores de entrada todas as vezes que desejar. "
   ]
  },
  {
   "cell_type": "code",
   "execution_count": 2,
   "id": "21d8860d",
   "metadata": {},
   "outputs": [
    {
     "name": "stdout",
     "output_type": "stream",
     "text": [
      "são 10:20Am\n",
      "são 6:32Pm\n",
      "são 6:30Pm\n",
      "ops, awkward time format\n"
     ]
    }
   ],
   "source": [
    "hour_minute = input('digite a hora separada por \":\" ')\n",
    "hour, minute = (int(numero) for numero in hour_minute.split(':'))\n",
    "\n",
    "def format_time(hour, minute):\n",
    "    while hour>=0 and hour<24 and minute>=0 and minute<59:\n",
    "        try:\n",
    "            if hour > 12:\n",
    "                hour-=10\n",
    "                print(f\"são {hour}:{minute}Pm\")\n",
    "            else:\n",
    "                print(f\"são {hour}:{minute}Am\")\n",
    "\n",
    "            hour_minute = input('digite a hora separada por \":\" ')\n",
    "            hour, minute = (int(numero) for numero in hour_minute.split(':'))\n",
    "        except:\n",
    "            print(\"ops,formato de hora inválido\") \n",
    "    else:\n",
    "        print(\"ops,formato de hora inválido\")    \n",
    "        \n",
    "\n",
    "format_time(hour, minute)"
   ]
  }
 ],
 "metadata": {
  "kernelspec": {
   "display_name": "Python 3",
   "language": "python",
   "name": "python3"
  },
  "language_info": {
   "codemirror_mode": {
    "name": "ipython",
    "version": 3
   },
   "file_extension": ".py",
   "mimetype": "text/x-python",
   "name": "python",
   "nbconvert_exporter": "python",
   "pygments_lexer": "ipython3",
   "version": "3.10.6"
  },
  "vscode": {
   "interpreter": {
    "hash": "916dbcbb3f70747c44a77c7bcd40155683ae19c65e1c03b4aa3499c5328201f1"
   }
  }
 },
 "nbformat": 4,
 "nbformat_minor": 5
}
