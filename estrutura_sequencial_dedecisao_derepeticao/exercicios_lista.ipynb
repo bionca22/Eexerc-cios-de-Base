{
 "cells": [
  {
   "cell_type": "code",
   "execution_count": null,
   "id": "0c8d4ba6",
   "metadata": {},
   "outputs": [],
   "source": [
    "Listas"
   ]
  },
  {
   "cell_type": "markdown",
   "id": "20b6d061",
   "metadata": {},
   "source": [
    "Faça um Programa que peça a idade e a altura de 5 pessoas, armazene cada informação no seu respectivo vetor. Imprima a idade e a altura na ordem inversa a ordem lida. "
   ]
  },
  {
   "cell_type": "code",
   "execution_count": 69,
   "id": "1e0feb06",
   "metadata": {},
   "outputs": [
    {
     "name": "stdout",
     "output_type": "stream",
     "text": [
      "digite sua idade: 22\n",
      "digite sua altura: 1.60\n",
      "{'idade': '22', 'altura': '1.60'}\n"
     ]
    }
   ],
   "source": [
    "age = input('digite sua idade: ')\n",
    "height = input('digite sua altura: ')\n",
    "dic = {'idade':0, 'altura':0.0}\n",
    "\n",
    "if age.isalpha() or height.isalpha():\n",
    "    print('todos os campos devem ser preenchidos apenas com números')\n",
    "\n",
    "else:\n",
    "    if age != 0 and height != 0:    \n",
    "        dic['idade'] = age\n",
    "        dic['altura'] = height\n",
    "        print(dic)\n",
    "    \n",
    "    else:\n",
    "        print('valores devem ser maior que 0!')\n",
    " \n"
   ]
  },
  {
   "cell_type": "markdown",
   "id": "469b47ec",
   "metadata": {},
   "source": [
    "Faça um programa que leia um número indeterminado de valores, correspondentes a notas, encerrando a entrada de dados quando for informado um valor igual a -1 (que não deve ser armazenado). Após esta entrada de dados, faça:\n",
    "    Mostre a quantidade de valores que foram lidos;  \n",
    "    Exiba todos os valores na ordem em que foram informados, um ao lado do outro;  \n",
    "    Exiba todos os valores na ordem inversa à que foram informados, um abaixo do outro;  \n",
    "    Calcule e mostre a soma dos valores;  \n",
    "    Calcule e mostre a média dos valores;  \n",
    "    Calcule e mostre a quantidade de valores acima da média calculada;  \n",
    "    Calcule e mostre a quantidade de valores abaixo de sete;  \n",
    "    Encerre o programa com uma mensagem;   "
   ]
  },
  {
   "cell_type": "code",
   "execution_count": 157,
   "id": "c53f7afe",
   "metadata": {
    "scrolled": true
   },
   "outputs": [
    {
     "name": "stdout",
     "output_type": "stream",
     "text": [
      "insira um número: 5\n",
      "insira um número: 6\n",
      "insira um número: 23\n",
      "insira um número: 58\n",
      "insira um número: 99\n",
      "insira um número: 4\n",
      "insira um número: 65\n",
      "insira um número: 14\n",
      "insira um número: -9\n",
      "números negativos param seu processo!, agora receba os resultados\n",
      "---sua lista---\n",
      " [6.0, 23.0, 58.0, 99.0, 4.0, 65.0, 14.0]\n",
      "---sua lista reversa---\n",
      " [14.0, 65.0, 4.0, 99.0, 58.0, 23.0, 6.0]\n",
      "---sua lista somada---\n",
      " 269.0\n",
      "---a média de sua lista---\n",
      " 38.42857142857143\n",
      "---os números acima da média em sua lista---\n",
      " [58.0, 99.0, 65.0]\n",
      "---os números abaixo de sete em sua lista---\n",
      " [6.0, 4.0]\n"
     ]
    }
   ],
   "source": [
    "listavalor =[]\n",
    "listacimamedia = []\n",
    "listamenorqsete = []\n",
    "valor = input('insira um número: ')\n",
    "contador = 0\n",
    "\n",
    "while True:\n",
    "    try:\n",
    "        valor = float(input('insira mais um número: '))\n",
    "        if valor >= 0:\n",
    "            listavalor.append(valor)\n",
    "            contador += 1\n",
    "            \n",
    "        else:\n",
    "            print('números negativos param seu processo!, agora receba os resultados')\n",
    "            break\n",
    "            \n",
    "    except ValueError:\n",
    "        print('apenas números!')\n",
    "\n",
    "media = sum(listavalor)/contador \n",
    "for num in listavalor:             \n",
    "    if num > media:\n",
    "        listacimamedia.append(num)\n",
    "    if num < 7:\n",
    "        listamenorqsete.append(num)\n",
    "        \n",
    "    \n",
    "print(f'---sua lista---\\n {listavalor}')\n",
    "print(f'---sua lista reversa---\\n {list(reversed(listavalor))}')\n",
    "print(f'---a soma de sua lista---\\n {sum(listavalor)}')\n",
    "print(f'---a média de sua lista---\\n {media}')\n",
    "print(f'---os números acima da média em sua lista---\\n {listacimamedia}')\n",
    "print(f'---os números abaixo de sete em sua lista---\\n {listamenorqsete}')\n",
    "\n",
    "\n"
   ]
  },
  {
   "cell_type": "code",
   "execution_count": 158,
   "id": "b6a6c354",
   "metadata": {},
   "outputs": [
    {
     "name": "stdout",
     "output_type": "stream",
     "text": [
      "quantos Fahrenheit está fazendo ai?: 30\n",
      "então está fazendo -1.1111111111111112 por ai!\n"
     ]
    }
   ],
   "source": [
    "fahrenheit = int(input('quantos Fahrenheit está fazendo ai?: '))\n",
    "\n",
    "fahrenheit -= 32\n",
    "fahrenheit /= 9\n",
    "fahrenheit *= 5\n",
    "celsius = fahrenheit\n",
    "print('então está fazendo', celsius, 'por ai!')"
   ]
  },
  {
   "cell_type": "code",
   "execution_count": 159,
   "id": "4d694e83",
   "metadata": {},
   "outputs": [
    {
     "name": "stdout",
     "output_type": "stream",
     "text": [
      "quantos Fahrenheit está fazendo ai?: 47\n",
      "então está fazendo 8.333333333333334 por ai!\n"
     ]
    }
   ],
   "source": [
    "fahrenheit = int(input('quantos Fahrenheit está fazendo ai?: '))\n",
    "\n",
    "fahrenheit -= 32\n",
    "fahrenheit /= 9\n",
    "fahrenheit *= 5\n",
    "celsius = fahrenheit\n",
    "print('então está fazendo', celsius, 'por ai!')"
   ]
  },
  {
   "cell_type": "code",
   "execution_count": 162,
   "id": "3509f277",
   "metadata": {},
   "outputs": [
    {
     "name": "stdout",
     "output_type": "stream",
     "text": [
      "Informe uma letra ou consoante:d\n",
      "isto é uma Consoante\n"
     ]
    }
   ],
   "source": [
    "alfa = input(\"Informe uma letra ou consoante:\")\n",
    "\n",
    "if alfa.isalpha():\n",
    "    if alfa ==\"a\":\n",
    "        print(\"Vogal\")\n",
    "    elif alfa == \"e\":\n",
    "        print(\"Vogal\")\n",
    "    elif alfa == \"i\":\n",
    "        print(\"Vogal\")\n",
    "    elif alfa == \"o\":\n",
    "        print(\"Vogal\")\n",
    "    elif alfa == \"u\":\n",
    "        print(\"isto é uma Vogal\")\n",
    "    else:\n",
    "        print(\"isto é uma Consoante\")\n",
    "else:\n",
    "    print(\"Não é uma letra!\")\n"
   ]
  },
  {
   "cell_type": "code",
   "execution_count": 163,
   "id": "ae303ddf",
   "metadata": {},
   "outputs": [
    {
     "name": "stdout",
     "output_type": "stream",
     "text": [
      "insira um número natural: 4\n",
      "insira um número natural: 5\n",
      "insira um número natural: 6\n",
      "o valor maximo entre eles é 6\n",
      "o valor mínimo entre eles é 4\n"
     ]
    }
   ],
   "source": [
    "\n",
    "a = int(input('insira um número natural: '))\n",
    "b = int(input('insira um número natural: '))\n",
    "c = int(input('insira um número natural: '))\n",
    "\n",
    "valmax = max(a, b, c)\n",
    "print(f'o valor maximo entre eles é {valmax}')\n",
    "\n",
    "valmini = min(a, b, c)\n",
    "print(f'o valor mínimo entre eles é {valmini}')"
   ]
  },
  {
   "cell_type": "code",
   "execution_count": 164,
   "id": "1797ed8d",
   "metadata": {},
   "outputs": [
    {
     "name": "stdout",
     "output_type": "stream",
     "text": [
      "insira um número natural: 4\n",
      "insira um número natural: 7\n",
      "insira um número natural: 8\n",
      "esse é o maior número 8\n",
      "esse é o menor número 4\n"
     ]
    }
   ],
   "source": [
    "a = int(input('insira um número natural: '))\n",
    "b = int(input('insira um número natural: '))\n",
    "c = int(input('insira um número natural: '))\n",
    "\n",
    "maxi = a    \n",
    "if b > maxi:\n",
    "    maxi = b\n",
    "    \n",
    "if c >maxi:\n",
    "    maxi = c\n",
    "\n",
    "print(f'esse é o maior número {maxi}')\n",
    "\n",
    "mini = a\n",
    "\n",
    "if b < mini:\n",
    "    mini = b\n",
    "    \n",
    "if c < mini:\n",
    "    mini = c\n",
    "    \n",
    "print(f'esse é o menor número {mini}')"
   ]
  },
  {
   "cell_type": "code",
   "execution_count": 165,
   "id": "ad999f3c",
   "metadata": {},
   "outputs": [
    {
     "name": "stdout",
     "output_type": "stream",
     "text": [
      "Digite um numero: 4\n",
      "Digite um numero: 5\n",
      "Digite um numero: 6\n",
      "[6, 5, 4]\n",
      "[4, 5, 6]\n"
     ]
    }
   ],
   "source": [
    "lista = []\n",
    "for i in range(3):\n",
    "    elemento = int(input('Digite um numero: '))\n",
    "    lista.append(elemento)\n",
    "\n",
    "lista.sort(reverse = True)\n",
    "print(lista)\n",
    "\n",
    "lista.sort()\n",
    "print(lista)"
   ]
  },
  {
   "cell_type": "code",
   "execution_count": 168,
   "id": "361bf390",
   "metadata": {
    "scrolled": true
   },
   "outputs": [
    {
     "name": "stdout",
     "output_type": "stream",
     "text": [
      "digite um nome: 123\n",
      "digite uma senha: 123\n",
      "opa, nome e senha não podem ser iguais!\n",
      "digite uma nova senha: 58\n"
     ]
    }
   ],
   "source": [
    "nome = input('digite um nome: ')\n",
    "senha = input('digite uma senha: ')\n",
    "\n",
    "while senha == nome:\n",
    "    print('opa, nome e senha não podem ser iguais!')\n",
    "    senha = input('digite uma nova senha: ')"
   ]
  },
  {
   "cell_type": "code",
   "execution_count": 20,
   "id": "81529d59",
   "metadata": {},
   "outputs": [
    {
     "name": "stdout",
     "output_type": "stream",
     "text": [
      "coloque seu salário: 500\n",
      "digite apenas valores numéricos, por favor!\n"
     ]
    }
   ],
   "source": [
    "salary = input('coloque seu salário: ')\n",
    "\n",
    "if type(salary) == int:\n",
    "\n",
    "    if salary >= 280:\n",
    "        readjustment = salary * 0.2\n",
    "        salaryincreased = salary + readjustment\n",
    "        print('mensagem')\n",
    "        print(f'seu salário de {salary}, passa a ser agora de {salaryincreased}, parabéns!')\n",
    "        print(f'valor do almento:{readjustment}, sob um persentual de 20%')\n",
    "\n",
    "\n",
    "    if salary <= 700:\n",
    "        readjustment = salary * 0.15\n",
    "        salaryincreased = salary + readjustment\n",
    "        print(f'seu salário de {salary}, passa a ser agora de {salaryincreased}, parabéns!')\n",
    "        print(f'valor do almento:{readjustment}, sob um persentual de 15%')\n",
    "\n",
    "\n",
    "    if salary <= 1500:\n",
    "        readjustment = salary * 0.1\n",
    "        salaryincreased = salary + readjustment\n",
    "        print(f'seu salário de {salary}, passa a ser agora de {salaryincreased}, parabéns!')\n",
    "        print(f'valor do almento:{readjustment}, sob um persentual de 10%')\n",
    "\n",
    "    if salary > 1500:\n",
    "        readjustment = salary * 0.05\n",
    "        salaryincreased = salary + readjustment\n",
    "        print(f'seu salário de {salary}, passa a ser agora de {salaryincreased}, parabéns!')\n",
    "        print(f'valor do almento:{readjustment}, sob um persentual de 5%')\n",
    "\n",
    "else:\n",
    "    print('digite apenas valores numéricos, por favor!')"
   ]
  },
  {
   "cell_type": "code",
   "execution_count": 4,
   "id": "1074edd7",
   "metadata": {},
   "outputs": [
    {
     "name": "stdout",
     "output_type": "stream",
     "text": [
      "insira seu nome: bibi\n",
      "insira sua idade: 26\n",
      "insira seu salario: 850000\n",
      "insira seu sexo biológico: f\n",
      "insira seu estado civil: s\n"
     ]
    }
   ],
   "source": [
    "while True:\n",
    "    \n",
    "    name = input('insira seu nome: ')\n",
    "    if ( len(name) <=  3 ):\n",
    "        print('opa, seu nome deve ter mais de 3 caractéres')\n",
    "        name = input('insira seu nome: ')\n",
    "    \n",
    "    age = int(input('insira sua idade: '))\n",
    "    if ( age > 150 or age < 0 ):\n",
    "        print('sua idade é inválida')\n",
    "        age = int(input('insira uma idade acima de 0 e abaixo de 150: '))\n",
    "    \n",
    "    salary = int(input('insira seu salario: '))\n",
    "    if salary <= 0:\n",
    "        print('seu salário não pode ser igual a zero!')\n",
    "        salary = int(input('insira seu salario: '))\n",
    "\n",
    "    sexo = input('insira seu sexo biológico: ')\n",
    "    if sexo.upper() != 'F' and sexo.upper() != 'M':\n",
    "        print('desculpe mona, apenas sexos biologicos aceitos aqui')\n",
    "        sexo = input('insira seu gênero normativo: ')\n",
    "        \n",
    "    maritalstatus = input('insira seu estado civil: ')\n",
    "    if maritalstatus.upper() != 'S' and maritalstatus.upper() != 'C' and maritalstatus.upper() != 'V' and maritalstatus.upper() != 'D':\n",
    "        print('status não válido')\n",
    "        sexo = input('insira um status válido: ')\n",
    "        \n",
    "    break\n",
    "    "
   ]
  },
  {
   "cell_type": "code",
   "execution_count": 2,
   "id": "99e675a0",
   "metadata": {},
   "outputs": [
    {
     "name": "stdout",
     "output_type": "stream",
     "text": [
      "Telefonou para a vítima? não\n",
      "Esteve no local do crime? sim\n",
      "Mora perto da vítima? não\n",
      "Devia para a vítima? sim\n",
      "Já trabalhou com a vítima? não\n",
      "você está classificado como suspeito\n"
     ]
    }
   ],
   "source": [
    "provas = 0\n",
    "positiva = 'sim'\n",
    "negativa = 'não'\n",
    "\n",
    "#validação para que o campo receba apenas as respostas \"sim\" e \"não\"\n",
    "def satisfy_input(prompt):\n",
    "    while True:\n",
    "        try:\n",
    "            value = (input(prompt))\n",
    "        except ValueError:\n",
    "            print('desculpe, não entendi isso')\n",
    "            continue\n",
    "        \n",
    "        if value.lower().replace(\" \", \"\") != positiva and value.lower().replace(\" \", \"\") != negativa:\n",
    "            print('responda apenas com \"sim\" ou \"não, por favor\"')\n",
    "            continue\n",
    "        else:\n",
    "            break\n",
    "            \n",
    "    return value\n",
    "\n",
    "#armazena as respostas positivas na variável provas\n",
    "resposta1 = satisfy_input('Telefonou para a vítima? ')\n",
    "if resposta1 == positiva:\n",
    "    provas += 1\n",
    "\n",
    "resposta2 = satisfy_input('Esteve no local do crime? ')\n",
    "if resposta2 == positiva:\n",
    "    provas += 1\n",
    "\n",
    "resposta3 = satisfy_input('Mora perto da vítima? ')\n",
    "if resposta3 == positiva:\n",
    "    provas += 1\n",
    "\n",
    "resposta4 = satisfy_input('Devia para a vítima? ')\n",
    "if resposta4 == positiva:\n",
    "    provas += 1\n",
    "\n",
    "resposta5 = satisfy_input('Já trabalhou com a vítima? ')\n",
    "if resposta5 == positiva:\n",
    "    provas += 1\n",
    "    \n",
    "#classifica o nível de envolvimento com o crime apartir das provas\n",
    "\n",
    "if provas < 2:\n",
    "    print('você é inoscente')\n",
    "    \n",
    "if provas == 2:\n",
    "    print('você está classificado como suspeito')\n",
    "    \n",
    "if provas == 3 or provas == 4:\n",
    "    print('você foi cumplisse nesse assassinato!')\n",
    "    \n",
    "if provas == 5:\n",
    "    print('você é o assassino!')\n"
   ]
  },
  {
   "cell_type": "code",
   "execution_count": 12,
   "id": "475a1408",
   "metadata": {},
   "outputs": [
    {
     "name": "stdout",
     "output_type": "stream",
     "text": [
      "insira um número correspondente a um ano: 2005\n",
      "esse ano será bissexto!\n"
     ]
    }
   ],
   "source": [
    "year = input('insira um número correspondente a um ano: ')\n",
    "\n",
    "#primeira validação rejeita letras\n",
    "while year.isalpha():\n",
    "    print('digite apenas números por favor!')\n",
    "    year = input('insira um número correspondente a um ano: ')\n",
    "    \n",
    "    \n",
    "#segunda validação aceita apena campo com 4 digitos\n",
    "if len(year) == 4:\n",
    "    year = int(year)\n",
    "    \n",
    "    if year % 4 == 0:\n",
    "        print('esse ano será bissexto!')\n",
    "    \n",
    "    elif year % 100 != 0:\n",
    "        print('esse ano será bissexto!')\n",
    "        \n",
    "    else:\n",
    "        print('esse ano não será bissexto!')\n",
    "else:\n",
    "    print('Desculpe, preciso que digite o ano com os 4 digitos')"
   ]
  },
  {
   "cell_type": "code",
   "execution_count": 14,
   "id": "3f08b6b8",
   "metadata": {},
   "outputs": [
    {
     "name": "stdout",
     "output_type": "stream",
     "text": [
      "foram necessários 8 anos para as populações se igualarem\n"
     ]
    }
   ],
   "source": [
    "A = 80000\n",
    "B = 200000\n",
    "cresceA = 0\n",
    "cresceB = 0\n",
    "anos = 0\n",
    "\n",
    "while B > A:\n",
    "    cresceA = A * 0.3\n",
    "    cresceB = B * 0.15\n",
    "    \n",
    "    A += cresceA\n",
    "    B += cresceB\n",
    "    anos += 1\n",
    "    \n",
    "print(f'foram necessários {anos} anos para as populações se igualarem')"
   ]
  },
  {
   "cell_type": "code",
   "execution_count": 13,
   "id": "2b277acd",
   "metadata": {},
   "outputs": [
    {
     "name": "stdout",
     "output_type": "stream",
     "text": [
      "digite um númeroo inteiro:60\n",
      "digite outro númeroo inteiro:160\n",
      "[61, 63, 65, 67, 69, 71, 73, 75, 77, 79, 81, 83, 85, 87, 89, 91, 93, 95, 97, 99, 101, 103, 105, 107, 109, 111, 113, 115, 117, 119, 121, 123, 125, 127, 129, 131, 133, 135, 137, 139, 141, 143, 145, 147, 149, 151, 153, 155, 157, 159]\n"
     ]
    }
   ],
   "source": [
    "a = input('digite um númeroo inteiro:')\n",
    "b = input('digite outro númeroo inteiro:')\n",
    "c = []\n",
    "\n",
    "for i in range(int(a), int(b)):\n",
    "    e = i % 2\n",
    "    if e != 0:\n",
    "        c.append(i)\n",
    "        \n",
    "print(c)"
   ]
  },
  {
   "cell_type": "code",
   "execution_count": 1,
   "id": "6c247841",
   "metadata": {
    "scrolled": true
   },
   "outputs": [
    {
     "name": "stdout",
     "output_type": "stream",
     "text": [
      "digite um númeroo inteiro para saber sua tabuada:1\n",
      "0 X 1 = 0\n",
      "1 X 1 = 1\n",
      "2 X 1 = 2\n",
      "3 X 1 = 3\n",
      "4 X 1 = 4\n",
      "5 X 1 = 5\n",
      "6 X 1 = 6\n",
      "7 X 1 = 7\n",
      "8 X 1 = 8\n",
      "9 X 1 = 9\n",
      "10 X 1 = 10\n"
     ]
    }
   ],
   "source": [
    "a = int(input('digite um númeroo inteiro para saber sua tabuada:'))\n",
    "count = 0 \n",
    "\n",
    "while count <= 10:\n",
    "    r = a * count\n",
    "    print(f'{count} X {a} = {r}')\n",
    "    count += 1"
   ]
  },
  {
   "cell_type": "markdown",
   "id": "ad6bdd29",
   "metadata": {},
   "source": [
    "Utilize uma lista para resolver o problema a seguir. Uma empresa paga seus vendedores com base em comissões. O vendedor recebe $200 por semana mais  9 por cento de suas vendas brutas daquela semana. Por exemplo, um vendedor que teve vendas brutas de $3000 em uma semana recebe $200 mais 9 por cento de $3000, ou seja, um total de $470. Escreva um programa (usando um array de contadores) que determine quantos vendedores receberam salários nos seguintes intervalos de valores:\n",
    "\n",
    "    $200 - $299                        \n",
    "    $300 - $399                                     \n",
    "    $400 - $499                                   \n",
    "    $500 - $599                                       \n",
    "    $600 - $699                                 \n",
    "    $700 - $799                                          \n",
    "    $800 - $899                                         \n",
    "    $900 - $999                                                                     \n",
    "    $1000 em diante   "
   ]
  },
  {
   "cell_type": "code",
   "execution_count": 3,
   "id": "8f467970",
   "metadata": {},
   "outputs": [
    {
     "name": "stdout",
     "output_type": "stream",
     "text": [
      "[270.2, 280.1, 236.0, 231.5, 205.4]\n"
     ]
    }
   ],
   "source": [
    "vendedores = {\"juninho\":780,  \"matheus\":890, \"renata\":400, \"xaiene\":350, \"hugo\":160}\n",
    "\n",
    "for i in vendedores.values():\n",
    "    i *= 0.09\n",
    "    i += 200\n",
    "    acrescido.append(i)\n",
    "    vendedores[key]\n",
    "print(acrescido)   \n",
    "\n",
    "for final in acrescido \n"
   ]
  },
  {
   "cell_type": "code",
   "execution_count": null,
   "id": "60c122e7",
   "metadata": {},
   "outputs": [],
   "source": []
  }
 ],
 "metadata": {
  "kernelspec": {
   "display_name": "Python 3 (ipykernel)",
   "language": "python",
   "name": "python3"
  },
  "language_info": {
   "codemirror_mode": {
    "name": "ipython",
    "version": 3
   },
   "file_extension": ".py",
   "mimetype": "text/x-python",
   "name": "python",
   "nbconvert_exporter": "python",
   "pygments_lexer": "ipython3",
   "version": "3.11.1"
  }
 },
 "nbformat": 4,
 "nbformat_minor": 5
}
