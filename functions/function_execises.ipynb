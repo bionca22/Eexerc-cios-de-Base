{
 "cells": [
  {
   "cell_type": "markdown",
   "id": "eb593416",
   "metadata": {},
   "source": [
    "para um n informado pelo usuário. Use uma função que receba um valor n inteiro e imprima até a n-ésima linha."
   ]
  },
  {
   "cell_type": "code",
   "execution_count": 42,
   "id": "90ebeda7",
   "metadata": {},
   "outputs": [],
   "source": [
    "def cascade(n):\n",
    "    o=0\n",
    "    for i in range(n):\n",
    "        i+=1\n",
    "        o +=1\n",
    "        print(str(i) *o)"
   ]
  },
  {
   "cell_type": "code",
   "execution_count": 43,
   "id": "16c341a5",
   "metadata": {},
   "outputs": [
    {
     "name": "stdout",
     "output_type": "stream",
     "text": [
      "1\n",
      "22\n",
      "333\n",
      "4444\n",
      "55555\n",
      "666666\n",
      "7777777\n",
      "88888888\n"
     ]
    }
   ],
   "source": [
    "cascade(8)"
   ]
  },
  {
   "cell_type": "markdown",
   "id": "c9dad032",
   "metadata": {},
   "source": [
    "para um n informado pelo usuário. Use uma função que receba um valor n inteiro imprima até a n-ésima linha."
   ]
  },
  {
   "cell_type": "code",
   "execution_count": 64,
   "id": "8f90a4d3",
   "metadata": {},
   "outputs": [],
   "source": [
    "val=[]\n",
    "def full_cascade(n):\n",
    "    for i in range(1, n):\n",
    "        val.append(i)\n",
    "        print(val)"
   ]
  },
  {
   "cell_type": "code",
   "execution_count": 65,
   "id": "50b5125e",
   "metadata": {},
   "outputs": [
    {
     "name": "stdout",
     "output_type": "stream",
     "text": [
      "[1]\n",
      "[1, 2]\n",
      "[1, 2, 3]\n",
      "[1, 2, 3, 4]\n",
      "[1, 2, 3, 4, 5]\n",
      "[1, 2, 3, 4, 5, 6]\n",
      "[1, 2, 3, 4, 5, 6, 7]\n"
     ]
    }
   ],
   "source": [
    "full_cascade(8)"
   ]
  }
 ],
 "metadata": {
  "kernelspec": {
   "display_name": "Python 3",
   "language": "python",
   "name": "python3"
  },
  "language_info": {
   "codemirror_mode": {
    "name": "ipython",
    "version": 3
   },
   "file_extension": ".py",
   "mimetype": "text/x-python",
   "name": "python",
   "nbconvert_exporter": "python",
   "pygments_lexer": "ipython3",
   "version": "3.10.9 (main, Dec 20 2022, 00:00:00) [GCC 12.2.1 20221121 (Red Hat 12.2.1-4)]"
  },
  "vscode": {
   "interpreter": {
    "hash": "97cc609b13305c559618ec78a438abc56230b9381f827f22d070313b9a1f3777"
   }
  }
 },
 "nbformat": 4,
 "nbformat_minor": 5
}
